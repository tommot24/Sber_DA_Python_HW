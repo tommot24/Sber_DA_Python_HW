{
 "cells": [
  {
   "cell_type": "code",
   "execution_count": null,
   "metadata": {
    "pycharm": {
     "name": "#%%\n"
    }
   },
   "outputs": [],
   "source": [
    "# 1. Посмотрите видео Дэвида Бизли про встроенные инструменты Python\n",
    "# 2. Попробуйте используя встроенные инструменты Python проанализировать таблицу из файла \"Vacancy.csv\"\n",
    "# 3. Попробуйте ответить на вопросы:\n",
    "# Сколько вакансий, которые вам нравятся?\n",
    "# За какие периоды эти вакансии?\n",
    "\n",
    "\n",
    "# В задании важно не использовать pandas и numpy, а встроенные инструменты python\n",
    "# Counter, CSV, defaultdict, sorted"
   ]
  },
  {
   "cell_type": "code",
   "execution_count": 1,
   "metadata": {
    "ExecuteTime": {
     "end_time": "2022-07-08T14:03:34.301144Z",
     "start_time": "2022-07-08T14:03:34.277142Z"
    },
    "pycharm": {
     "name": "#%%\n"
    }
   },
   "outputs": [
    {
     "data": {
      "text/plain": [
       "131072"
      ]
     },
     "execution_count": 1,
     "metadata": {},
     "output_type": "execute_result"
    }
   ],
   "source": [
    "from collections import Counter\n",
    "import csv\n",
    "import sys, os\n",
    "import re\n",
    "csv.field_size_limit(922337200)"
   ]
  },
  {
   "cell_type": "code",
   "execution_count": 6,
   "metadata": {
    "ExecuteTime": {
     "end_time": "2022-07-08T14:07:35.039514Z",
     "start_time": "2022-07-08T14:07:32.449682Z"
    }
   },
   "outputs": [],
   "source": [
    "file = 'Vacancy.csv'\n",
    "path = os.path.join('data', file)\n",
    "vacs = []\n",
    "\n",
    "with open(path, encoding='utf-8', newline='\\n' ) as csvfile:\n",
    "    vacs = list(csv.DictReader(csvfile))"
   ]
  },
  {
   "cell_type": "code",
   "execution_count": 124,
   "metadata": {
    "ExecuteTime": {
     "end_time": "2022-07-11T12:12:56.120969Z",
     "start_time": "2022-07-11T12:12:56.117978Z"
    }
   },
   "outputs": [],
   "source": [
    "# поиск вакансии в общем списке по id\n",
    "def get_v(id):\n",
    "    return [v for v in vacs if v.get('id') == str(id)]"
   ]
  },
  {
   "cell_type": "code",
   "execution_count": 125,
   "metadata": {
    "ExecuteTime": {
     "end_time": "2022-07-11T12:13:38.827041Z",
     "start_time": "2022-07-11T12:13:38.818045Z"
    }
   },
   "outputs": [
    {
     "data": {
      "text/plain": [
       "[{'id': '383804',\n",
       "  'created_at': '2021-03-14 09:39:21.854462',\n",
       "  'updated_at': '2021-03-14 09:39:21.854584',\n",
       "  'vacid': '1570500',\n",
       "  'vactitle': 'Ведущий аналитик данных',\n",
       "  'vacdescription': '',\n",
       "  'vacdate': '2021-03-11',\n",
       "  'vacstatus': 'new',\n",
       "  'vaclink': 'https://my.sbertalents.ru/#/job-requisition/1570500',\n",
       "  'vachtml': '{\"title\": \"\\\\u0412\\\\u0435\\\\u0434\\\\u0443\\\\u0449\\\\u0438\\\\u0439 \\\\u0430\\\\u043d\\\\u0430\\\\u043b\\\\u0438\\\\u0442\\\\u0438\\\\u043a \\\\u0434\\\\u0430\\\\u043d\\\\u043d\\\\u044b\\\\u0445\"}'}]"
      ]
     },
     "execution_count": 125,
     "metadata": {},
     "output_type": "execute_result"
    }
   ],
   "source": [
    "get_v(383804)"
   ]
  },
  {
   "cell_type": "code",
   "execution_count": 129,
   "metadata": {
    "ExecuteTime": {
     "end_time": "2022-07-11T12:15:00.693497Z",
     "start_time": "2022-07-11T12:15:00.646854Z"
    }
   },
   "outputs": [
    {
     "name": "stdout",
     "output_type": "stream",
     "text": [
      "[\"Аналитик/разработчик  (Программа 'Миграция Legacy АС на Фабрику Данных')\", 'Аналитик на разметку данных', 'Data analyst. Аналитик данных в трайб «Массовая персонализация».', 'Аналитик данных (проект СберID)', 'Рук-ль направления по аналитике данных']\n",
      "\n",
      "Сколько вакансий, которые вам нравятся? -  64\n"
     ]
    }
   ],
   "source": [
    "# Сколько вакансий, которые вам нравятся?\n",
    "# Сколько вакансий для аналитика данных?\n",
    "like_id = {v.get('id'):v.get('vactitle') for v in vacs if re.findall('.*аналитик.*данн.*|.*data.*an.*', v.get('vactitle').lower())}\n",
    "print(list(like_id.values())[0:5])\n",
    "print('\\nСколько вакансий, которые вам нравятся? - ', len(like_id))\n"
   ]
  },
  {
   "cell_type": "code",
   "execution_count": 130,
   "metadata": {
    "ExecuteTime": {
     "end_time": "2022-07-11T12:16:24.713083Z",
     "start_time": "2022-07-11T12:16:24.700179Z"
    }
   },
   "outputs": [
    {
     "name": "stdout",
     "output_type": "stream",
     "text": [
      "начало периода - 2020-10-16, конец - 2021-03-17\n"
     ]
    }
   ],
   "source": [
    "# За какие периоды эти вакансии?\n",
    "like_id_period = [v.get('vacdate') for v in vacs if v.get('id') in like_id.keys()]\n",
    "print(f'начало периода - {min(like_id_period)}, конец - {max(like_id_period)}')"
   ]
  },
  {
   "cell_type": "code",
   "execution_count": 131,
   "metadata": {
    "ExecuteTime": {
     "end_time": "2022-07-11T12:17:28.470499Z",
     "start_time": "2022-07-11T12:17:28.444267Z"
    }
   },
   "outputs": [
    {
     "name": "stdout",
     "output_type": "stream",
     "text": [
      "Сколько вакансий с такими позициями, на которых вы работаете? - 99\n"
     ]
    }
   ],
   "source": [
    "like_me = {v.get('id'):v.get('vactitle') for v in vacs if re.findall('.*инженер.*.*сопровож*', v.get('vactitle').lower())}\n",
    "print(f'Сколько вакансий с такими позициями, на которых вы работаете? - {len(like_me)}')"
   ]
  },
  {
   "cell_type": "code",
   "execution_count": 132,
   "metadata": {
    "ExecuteTime": {
     "end_time": "2022-07-11T12:18:15.353062Z",
     "start_time": "2022-07-11T12:18:15.069357Z"
    }
   },
   "outputs": [
    {
     "name": "stdout",
     "output_type": "stream",
     "text": [
      "Сколько вакансий для аналитика данных с использованием Python? - 29\n"
     ]
    }
   ],
   "source": [
    "da_python = {v.get('id'):v.get('vactitle') for v in vacs \n",
    "             if re.findall('.*аналитик.*данн.*|.*data.*an.*', v.get('vactitle').lower()) and\n",
    "                re.findall('.*python.*', v.get('vacdescription').lower())\n",
    "            }\n",
    "print(f'Сколько вакансий для аналитика данных с использованием Python? - {len(da_python)}')"
   ]
  }
 ],
 "metadata": {
  "gist": {
   "data": {
    "description": "SBER_DA_PYTHON/HW1_FedorovAV.ipynb",
    "public": true
   },
   "id": ""
  },
  "kernelspec": {
   "display_name": "Python 3",
   "language": "python",
   "name": "python3"
  },
  "language_info": {
   "codemirror_mode": {
    "name": "ipython",
    "version": 3
   },
   "file_extension": ".py",
   "mimetype": "text/x-python",
   "name": "python",
   "nbconvert_exporter": "python",
   "pygments_lexer": "ipython3",
   "version": "3.8.8"
  },
  "nbTranslate": {
   "displayLangs": [
    "*"
   ],
   "hotkey": "alt-t",
   "langInMainMenu": true,
   "sourceLang": "en",
   "targetLang": "fr",
   "useGoogleTranslate": true
  },
  "toc": {
   "base_numbering": 1,
   "nav_menu": {},
   "number_sections": true,
   "sideBar": true,
   "skip_h1_title": false,
   "title_cell": "Table of Contents",
   "title_sidebar": "Contents",
   "toc_cell": false,
   "toc_position": {},
   "toc_section_display": true,
   "toc_window_display": false
  },
  "varInspector": {
   "cols": {
    "lenName": 16,
    "lenType": 16,
    "lenVar": 40
   },
   "kernels_config": {
    "python": {
     "delete_cmd_postfix": "",
     "delete_cmd_prefix": "del ",
     "library": "var_list.py",
     "varRefreshCmd": "print(var_dic_list())"
    },
    "r": {
     "delete_cmd_postfix": ") ",
     "delete_cmd_prefix": "rm(",
     "library": "var_list.r",
     "varRefreshCmd": "cat(var_dic_list()) "
    }
   },
   "types_to_exclude": [
    "module",
    "function",
    "builtin_function_or_method",
    "instance",
    "_Feature"
   ],
   "window_display": false
  }
 },
 "nbformat": 4,
 "nbformat_minor": 4
}
