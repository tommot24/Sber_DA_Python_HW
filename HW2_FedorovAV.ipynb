{
 "cells": [
  {
   "cell_type": "markdown",
   "metadata": {
    "pycharm": {
     "name": "#%% md\n"
    }
   },
   "source": [
    "# Задание\n",
    "* Скачать все вакансии СБЕРа с ХХ (у апи есть ограничение в 2000, а также captcha подумайте как их можно обойти) +\n",
    "* Извлеките все описания этих вакансий +\n",
    "* Создайте аналогичный vacancy DataFrame только добавьте поле skills\n",
    "* Переведите даты публикаций в datetime\n",
    "* Постройте график опубликованных вакансий по датам\n",
    "* Переведите даты в дни недели, и определите день недели, в который больше всего публикуют вакансий\n",
    "* Найдите те вакансии с использованием python, которые вам интересны\n",
    "* Определите по полю skills какие навыки больше всего востребованы для этих вакансий\n",
    "* Постройте график наиболее востребованных навыков для аналитика данных"
   ]
  },
  {
   "cell_type": "markdown",
   "metadata": {
    "pycharm": {
     "name": "#%% md\n"
    }
   },
   "source": [
    "https://github.com/hhru/api"
   ]
  },
  {
   "cell_type": "code",
   "execution_count": 1,
   "metadata": {
    "ExecuteTime": {
     "end_time": "2022-07-13T11:02:05.265876Z",
     "start_time": "2022-07-13T11:02:04.550415Z"
    },
    "pycharm": {
     "name": "#%%\n"
    }
   },
   "outputs": [],
   "source": [
    "import requests\n",
    "import json\n",
    "from tqdm.auto import tqdm\n",
    "from collections import defaultdict\n",
    "import pickle\n",
    "import pandas as pd\n",
    "import matplotlib.pyplot as plt\n",
    "%matplotlib inline"
   ]
  },
  {
   "cell_type": "code",
   "execution_count": 2,
   "metadata": {
    "ExecuteTime": {
     "end_time": "2022-07-13T11:02:07.037140Z",
     "start_time": "2022-07-13T11:02:07.019080Z"
    }
   },
   "outputs": [],
   "source": [
    "pd.set_option('display.max_colwidth', None)\n",
    "pd.set_option('display.max_columns', None)"
   ]
  },
  {
   "cell_type": "code",
   "execution_count": 3,
   "metadata": {
    "ExecuteTime": {
     "end_time": "2022-07-13T11:02:08.665994Z",
     "start_time": "2022-07-13T11:02:08.655544Z"
    },
    "pycharm": {
     "name": "#%%\n"
    }
   },
   "outputs": [],
   "source": [
    "sber = 3529\n",
    "num_per_page = 100\n",
    "moscow = 1\n",
    "page = 1\n",
    "url = f'https://api.hh.ru/vacancies?employer_id={sber}&page={page}&per_page={num_per_page}&area={moscow}'"
   ]
  },
  {
   "cell_type": "code",
   "execution_count": 4,
   "metadata": {
    "ExecuteTime": {
     "end_time": "2022-07-13T11:02:11.583315Z",
     "start_time": "2022-07-13T11:02:10.597805Z"
    }
   },
   "outputs": [
    {
     "data": {
      "text/plain": [
       "13"
      ]
     },
     "execution_count": 4,
     "metadata": {},
     "output_type": "execute_result"
    }
   ],
   "source": [
    "num_pages = requests.get(url).json().get('pages')\n",
    "num_pages"
   ]
  },
  {
   "cell_type": "code",
   "execution_count": 12,
   "metadata": {
    "ExecuteTime": {
     "end_time": "2022-07-13T11:15:43.550225Z",
     "start_time": "2022-07-13T11:15:31.848352Z"
    }
   },
   "outputs": [
    {
     "data": {
      "application/vnd.jupyter.widget-view+json": {
       "model_id": "106eab31f209406ebbd5bae510f628cc",
       "version_major": 2,
       "version_minor": 0
      },
      "text/plain": [
       "  0%|          | 0/13 [00:00<?, ?it/s]"
      ]
     },
     "metadata": {},
     "output_type": "display_data"
    },
    {
     "data": {
      "text/plain": [
       "1268"
      ]
     },
     "execution_count": 12,
     "metadata": {},
     "output_type": "execute_result"
    }
   ],
   "source": [
    "all_vacancy_ids= []\n",
    "for page in tqdm(range(num_pages)):\n",
    "    url = f'https://api.hh.ru/vacancies?employer_id={sber}&page={page}&per_page={num_per_page}&area={moscow}'\n",
    "    res = requests.get(url)\n",
    "    vacancies = res.json()\n",
    "    vacancy_ids = [el.get('id') for el in vacancies.get('items')]\n",
    "    all_vacancy_ids.extend(vacancy_ids)\n",
    "len(all_vacancy_ids)"
   ]
  },
  {
   "cell_type": "code",
   "execution_count": 35,
   "metadata": {
    "ExecuteTime": {
     "end_time": "2022-07-13T11:44:01.220019Z",
     "start_time": "2022-07-13T11:43:08.420851Z"
    },
    "pycharm": {
     "name": "#%%\n"
    }
   },
   "outputs": [
    {
     "data": {
      "application/vnd.jupyter.widget-view+json": {
       "model_id": "fc3c346c4985419c91428b4e2df94843",
       "version_major": 2,
       "version_minor": 0
      },
      "text/plain": [
       "  0%|          | 0/100 [00:00<?, ?it/s]"
      ]
     },
     "metadata": {},
     "output_type": "display_data"
    },
    {
     "name": "stdout",
     "output_type": "stream",
     "text": [
      "<class 'pandas.core.frame.DataFrame'>\n",
      "Int64Index: 100 entries, 0 to 0\n",
      "Data columns (total 5 columns):\n",
      " #   Column       Non-Null Count  Dtype \n",
      "---  ------       --------------  ----- \n",
      " 0   id           100 non-null    object\n",
      " 1   created_at   100 non-null    object\n",
      " 2   name         100 non-null    object\n",
      " 3   description  100 non-null    object\n",
      " 4   key_skills   100 non-null    object\n",
      "dtypes: object(5)\n",
      "memory usage: 4.7+ KB\n"
     ]
    }
   ],
   "source": [
    "# Извлеките все описания этих вакансий\n",
    "# Создайте аналогичный vacancy DataFrame только добавьте поле skills\n",
    "df = pd.DataFrame()\n",
    "columns = ['id', 'created_at', 'name', 'description', 'key_skills']\n",
    "test_id = list(pd.Series(all_vacancy_ids).sample(100)) #100 случайных id для тестов\n",
    "for n in tqdm(test_id):  #all_vacancy_ids\n",
    "    url_id = f'https://api.hh.ru/vacancies/{n}'\n",
    "    res = requests.get(url_id).json()\n",
    "    df_ = pd.json_normalize(res)[columns]\n",
    "    df = pd.concat([df, df_], axis=0)\n",
    "    #dict_id_desc[n] = res_id.json().get('description')\n",
    "df.reset_index(drop=True)\n",
    "df.info()"
   ]
  },
  {
   "cell_type": "code",
   "execution_count": 36,
   "metadata": {
    "ExecuteTime": {
     "end_time": "2022-07-13T11:44:24.769836Z",
     "start_time": "2022-07-13T11:44:24.725368Z"
    }
   },
   "outputs": [
    {
     "name": "stdout",
     "output_type": "stream",
     "text": [
      "<class 'pandas.core.frame.DataFrame'>\n",
      "Int64Index: 100 entries, 0 to 0\n",
      "Data columns (total 6 columns):\n",
      " #   Column        Non-Null Count  Dtype         \n",
      "---  ------        --------------  -----         \n",
      " 0   id            100 non-null    object        \n",
      " 1   created_at    100 non-null    datetime64[ns]\n",
      " 2   name          100 non-null    object        \n",
      " 3   description   100 non-null    object        \n",
      " 4   key_skills    100 non-null    object        \n",
      " 5   created_date  100 non-null    object        \n",
      "dtypes: datetime64[ns](1), object(5)\n",
      "memory usage: 5.5+ KB\n"
     ]
    }
   ],
   "source": [
    "# Переведите даты публикаций в datetime\n",
    "df['created_at'] = df['created_at'].astype('datetime64[ns]')\n",
    "df['created_date'] = df['created_at'].dt.strftime('%Y-%m-%d')\n",
    "df.info()"
   ]
  },
  {
   "cell_type": "code",
   "execution_count": 37,
   "metadata": {
    "ExecuteTime": {
     "end_time": "2022-07-13T11:44:32.078661Z",
     "start_time": "2022-07-13T11:44:31.709204Z"
    }
   },
   "outputs": [
    {
     "data": {
      "image/png": "[encoded data removed]",
      "text/plain": [
       "<Figure size 1296x432 with 1 Axes>"
      ]
     },
     "metadata": {
      "needs_background": "light"
     },
     "output_type": "display_data"
    }
   ],
   "source": [
    "# Постройте график опубликованных вакансий по датам\n",
    "for_gr = df.groupby('created_date').count()['id']\n",
    "plt.figure(figsize=(18, 6))\n",
    "plt.plot(for_gr)\n",
    "plt.xticks(rotation = 90)\n",
    "plt.title('График опубликованных вакансий по датам')\n",
    "plt.show()"
   ]
  },
  {
   "cell_type": "code",
   "execution_count": 57,
   "metadata": {
    "ExecuteTime": {
     "end_time": "2022-07-13T11:59:49.101705Z",
     "start_time": "2022-07-13T11:59:49.076795Z"
    }
   },
   "outputs": [
    {
     "name": "stdout",
     "output_type": "stream",
     "text": [
      "Самый популярный день для публикаций вакансий - вторник\n"
     ]
    }
   ],
   "source": [
    "# Переведите даты в дни недели, и определите день недели, в который больше всего публикуют вакансий\n",
    "df['dayofweek'] = df['created_at'].dt.dayofweek\n",
    "days_map = {0:'понедельник', 1:'вторник', 2:'среда', 3:'четверг', 4:'пятница', 5:'суббота', 6:'воскресенье'}\n",
    "df['dayofweek'] = df['dayofweek'].map(days_map)\n",
    "print(f'Самый популярный день для публикаций вакансий - {df.dayofweek.value_counts().idxmax()}')"
   ]
  },
  {
   "cell_type": "code",
   "execution_count": 79,
   "metadata": {
    "ExecuteTime": {
     "end_time": "2022-07-13T12:18:44.043489Z",
     "start_time": "2022-07-13T12:18:44.010899Z"
    }
   },
   "outputs": [
    {
     "data": {
      "text/plain": [
       "0    Data Engineer в Лабораторию Нейронаук и поведения человека\n",
       "0                                     Lead Data Scientist ML/CV\n",
       "0                      Data Analyst / Data Engineer (Биометрия)\n",
       "0                                                 Data Engineer\n",
       "0                                         Senior Data Scientist\n",
       "0                        Системный аналитик (аналитик Big Data)\n",
       "0        QA Engineer, Big Data (инженер по тестированию данных)\n",
       "0                    Инженер по сопровождению Hadoop (SberData)\n",
       "Name: name, dtype: object"
      ]
     },
     "execution_count": 79,
     "metadata": {},
     "output_type": "execute_result"
    }
   ],
   "source": [
    "# Найдите те вакансии с использованием python, которые вам интересны\n",
    "cond1 = df.description.str.match('.*python.*', case=False)\n",
    "cond2 = df.name.str.match('.*data.*', case=False)\n",
    "cond3 = df.name.str.match('.*anal.*', case=False)\n",
    "cond4 = df.name.str.match('.*аналит.*', case=False)\n",
    "cond5 = df.name.str.match('.*данн.*', case=False)\n",
    "df_da = df[(cond2&cond3) | (cond4&cond5)] #фрейм аналитиков данных\n",
    "df_like = df[cond1&(cond2|cond3)] # фрейм с вакансиями, которые интересны\n",
    "df_like.name"
   ]
  },
  {
   "cell_type": "code",
   "execution_count": 80,
   "metadata": {
    "ExecuteTime": {
     "end_time": "2022-07-13T12:18:54.834131Z",
     "start_time": "2022-07-13T12:18:54.802863Z"
    }
   },
   "outputs": [
    {
     "data": {
      "text/plain": [
       "Python    5\n",
       "SQL       3\n",
       "Spark     3\n",
       "dtype: int64"
      ]
     },
     "execution_count": 80,
     "metadata": {},
     "output_type": "execute_result"
    }
   ],
   "source": [
    "# Определите по полю skills какие навыки больше всего востребованы для этих вакансий\n",
    "\n",
    "def skills(obj, n): # n - число, меньше которого навыки не показывать\n",
    "    l = []\n",
    "    for skills in obj.key_skills:\n",
    "        for skill in skills:\n",
    "            l.append(skill.get('name'))\n",
    "    skills_for_gr = pd.Series(l).value_counts()\n",
    "    return skills_for_gr[skills_for_gr>n]\n",
    "\n",
    "skills(df_like, 2)"
   ]
  },
  {
   "cell_type": "code",
   "execution_count": 89,
   "metadata": {
    "ExecuteTime": {
     "end_time": "2022-07-13T12:24:27.038216Z",
     "start_time": "2022-07-13T12:24:26.845254Z"
    }
   },
   "outputs": [
    {
     "data": {
      "image/png": "[encoded data removed]",
      "text/plain": [
       "<Figure size 432x288 with 1 Axes>"
      ]
     },
     "metadata": {
      "needs_background": "light"
     },
     "output_type": "display_data"
    }
   ],
   "source": [
    "# Постройте график наиболее востребованных навыков для аналитика данных\n",
    "sk = skills(df_like, 2)\n",
    "sk.plot.bar()\n",
    "plt.title('График наиболее востребованных навыков для аналитика данных')\n",
    "plt.show()"
   ]
  },
  {
   "cell_type": "code",
   "execution_count": null,
   "metadata": {},
   "outputs": [],
   "source": []
  }
 ],
 "metadata": {
  "kernelspec": {
   "display_name": "Python 3",
   "language": "python",
   "name": "python3"
  },
  "language_info": {
   "codemirror_mode": {
    "name": "ipython",
    "version": 3
   },
   "file_extension": ".py",
   "mimetype": "text/x-python",
   "name": "python",
   "nbconvert_exporter": "python",
   "pygments_lexer": "ipython3",
   "version": "3.8.8"
  },
  "nbTranslate": {
   "displayLangs": [
    "*"
   ],
   "hotkey": "alt-t",
   "langInMainMenu": true,
   "sourceLang": "en",
   "targetLang": "fr",
   "useGoogleTranslate": true
  },
  "toc": {
   "base_numbering": 1,
   "nav_menu": {},
   "number_sections": true,
   "sideBar": true,
   "skip_h1_title": false,
   "title_cell": "Table of Contents",
   "title_sidebar": "Contents",
   "toc_cell": false,
   "toc_position": {},
   "toc_section_display": true,
   "toc_window_display": false
  },
  "varInspector": {
   "cols": {
    "lenName": 16,
    "lenType": 16,
    "lenVar": 40
   },
   "kernels_config": {
    "python": {
     "delete_cmd_postfix": "",
     "delete_cmd_prefix": "del ",
     "library": "var_list.py",
     "varRefreshCmd": "print(var_dic_list())"
    },
    "r": {
     "delete_cmd_postfix": ") ",
     "delete_cmd_prefix": "rm(",
     "library": "var_list.r",
     "varRefreshCmd": "cat(var_dic_list()) "
    }
   },
   "types_to_exclude": [
    "module",
    "function",
    "builtin_function_or_method",
    "instance",
    "_Feature"
   ],
   "window_display": false
  }
 },
 "nbformat": 4,
 "nbformat_minor": 4
}
